{
 "cells": [
  {
   "cell_type": "code",
   "execution_count": null,
   "id": "0cb53f26",
   "metadata": {},
   "outputs": [],
   "source": [
    "# MLDL Python Assignment 02\n",
    "# {TOPIC : Strings,Objects and List Objects}"
   ]
  },
  {
   "cell_type": "markdown",
   "id": "4a94bf24",
   "metadata": {},
   "source": [
    "<h1>1.Create the below pattern using nested for loop in Python.<br></h1>\n",
    "<h3>*<br>\n",
    "* *<br>\n",
    "* * *<br>\n",
    "* * * *<br>\n",
    "* * * * *<br>\n",
    "* * * *<br>\n",
    "* * *<br>\n",
    "* *<br>\n",
    "*</h3>"
   ]
  },
  {
   "cell_type": "code",
   "execution_count": 2,
   "id": "bdf05c0e",
   "metadata": {},
   "outputs": [
    {
     "name": "stdout",
     "output_type": "stream",
     "text": [
      "* \n",
      "* * \n",
      "* * * \n",
      "* * * * \n",
      "* * * * * \n",
      "* * * * \n",
      "* * * \n",
      "* * \n",
      "* \n"
     ]
    }
   ],
   "source": [
    "for i in range(1,6):\n",
    "    for j in range(i):\n",
    "        print(\"*\",end=\" \")\n",
    "    print()\n",
    "for p in range(4,0,-1):\n",
    "    for q in range(p):\n",
    "        print(\"*\",end=\" \")\n",
    "    print()"
   ]
  },
  {
   "cell_type": "markdown",
   "id": "44f32ab9",
   "metadata": {},
   "source": [
    "<h1>2.Write a Python program to reverse a word after accepting the input from the user.</h1>\n",
    "<h3>SAMPLE O/P:<br>\n",
    "Input word: ineuron<br>\n",
    "Output: norueni</h3>"
   ]
  },
  {
   "cell_type": "code",
   "execution_count": 4,
   "id": "acfeacdc",
   "metadata": {},
   "outputs": [
    {
     "name": "stdout",
     "output_type": "stream",
     "text": [
      "ENTER A WORD: oneneuron\n",
      "norueneno\n"
     ]
    }
   ],
   "source": [
    "s=input(\"ENTER A WORD: \")\n",
    "print(s[::-1])"
   ]
  },
  {
   "cell_type": "code",
   "execution_count": null,
   "id": "e91bc233",
   "metadata": {},
   "outputs": [],
   "source": []
  }
 ],
 "metadata": {
  "kernelspec": {
   "display_name": "Python 3",
   "language": "python",
   "name": "python3"
  },
  "language_info": {
   "codemirror_mode": {
    "name": "ipython",
    "version": 3
   },
   "file_extension": ".py",
   "mimetype": "text/x-python",
   "name": "python",
   "nbconvert_exporter": "python",
   "pygments_lexer": "ipython3",
   "version": "3.8.8"
  }
 },
 "nbformat": 4,
 "nbformat_minor": 5
}
