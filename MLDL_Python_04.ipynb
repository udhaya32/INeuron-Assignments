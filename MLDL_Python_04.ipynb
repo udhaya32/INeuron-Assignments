{
 "cells": [
  {
   "cell_type": "code",
   "execution_count": 1,
   "id": "5bb5765b",
   "metadata": {},
   "outputs": [],
   "source": [
    "# MLDL Python Assignment 04\n",
    "# {TOPIC : \"Dictionaries and Functions\"}"
   ]
  },
  {
   "cell_type": "markdown",
   "id": "794ad4c9",
   "metadata": {},
   "source": [
    "<h2>1.1 Write a Python Program(with class concepts) to find the area of the triangle using the below formula.</h2>\n",
    "<h3>area = (s(s-a)(s-b)*(s-c)) ** 0.5</h3>\n",
    "<h2>Function to take the length of the sides of triangle from user should be defined in the parent class and function to calculate the area should be defined in subclass.</h2>"
   ]
  },
  {
   "cell_type": "code",
   "execution_count": 3,
   "id": "08518663",
   "metadata": {},
   "outputs": [
    {
     "name": "stdout",
     "output_type": "stream",
     "text": [
      "Enter the Length of 1st side: 2\n",
      "Enter the Length of 2nd side: 3\n",
      "Enter the Length of 3rd side: 4\n",
      "Area of the triangle is 8.4375\n"
     ]
    }
   ],
   "source": [
    "class area:\n",
    "    def input_fn(self):\n",
    "        self.a=int(input(\"Enter the Length of 1st side: \"))\n",
    "        self.b=int(input(\"Enter the Length of 2nd side: \"))\n",
    "        self.c=int(input(\"Enter the Length of 3rd side: \"))\n",
    "class triangle(area):\n",
    "    def cal_area(self):\n",
    "        self.input_fn()\n",
    "        # calculate the Perimeter\n",
    "        Perimeter = self.a + self.b + self.c\n",
    "        # calculate the semi-perimeter\n",
    "        self.s = (self.a + self.b + self.c) / 2\n",
    "\n",
    "        # calculate the area\n",
    "        Area = ((self.s*(self.s-self.a)*(self.s-self.b)*(self.s-self.c)))\n",
    "        return Area\n",
    "if __name__==\"__main__\":\n",
    "    triangle=triangle()\n",
    "    res=triangle.cal_area()\n",
    "    print(f\"Area of the triangle is {res}\")"
   ]
  },
  {
   "cell_type": "markdown",
   "id": "7b0e87fd",
   "metadata": {},
   "source": [
    "<h1>1.2 Write a function filter_long_words() that takes a list of words and an integer n and returns the list of words that are longer than n.</h1>"
   ]
  },
  {
   "cell_type": "code",
   "execution_count": 6,
   "id": "c7faa756",
   "metadata": {},
   "outputs": [
    {
     "name": "stdout",
     "output_type": "stream",
     "text": [
      "Enter the size of the list 6\n",
      "\n",
      "\n",
      "Enter the list items separated by space: Udhaya Kumar John Wick Ross Joe\n",
      "User list:  ['Udhaya', 'Kumar', 'John', 'Wick', 'Ross', 'Joe']\n",
      "enter the length: 4\n"
     ]
    },
    {
     "data": {
      "text/plain": [
       "['Udhaya', 'Kumar']"
      ]
     },
     "execution_count": 6,
     "metadata": {},
     "output_type": "execute_result"
    }
   ],
   "source": [
    "def filter_long_words(string,number):\n",
    "    return [word for word in string if len(word) > number]\n",
    "\n",
    "num = int(input(\"Enter the size of the list \"))\n",
    "print(\"\\n\")\n",
    "word_list = list(i for i in input(\"Enter the list items separated by space: \").strip().split())[:num]\n",
    "\n",
    "print(\"User list: \", word_list)\n",
    "n = int(input(\"enter the length: \"))\n",
    "res=filter_long_words(word_list,n)\n",
    "res"
   ]
  },
  {
   "cell_type": "markdown",
   "id": "2192d358",
   "metadata": {},
   "source": [
    "<h1>2.1 Write a Python program using function concept that maps list of words into a list of integers representing the lengths of the corresponding words.</h1>\n",
    "<h3>Hint: If a list [ ab,cde,erty] is passed on to the python function output should come as [2,3,4]<br><br>\n",
    "Here 2,3 and 4 are the lengths of the words in the list.</h3>"
   ]
  },
  {
   "cell_type": "code",
   "execution_count": 7,
   "id": "f8df616f",
   "metadata": {},
   "outputs": [
    {
     "name": "stdout",
     "output_type": "stream",
     "text": [
      "Enter the size of the list 5\n",
      "\n",
      "\n",
      "Enter the list items separated by space: Udhaya Kumar John Wick Joe\n",
      "User list:  ['Udhaya', 'Kumar', 'John', 'Wick', 'Joe']\n"
     ]
    },
    {
     "data": {
      "text/plain": [
       "[6, 5, 4, 4, 3]"
      ]
     },
     "execution_count": 7,
     "metadata": {},
     "output_type": "execute_result"
    }
   ],
   "source": [
    "def find_len_list(lis):\n",
    "    return [len(word) for word in lis]\n",
    "    \n",
    "num = int(input(\"Enter the size of the list \"))\n",
    "print(\"\\n\")\n",
    "word_list = list(i for i in input(\"Enter the list items separated by space: \").strip().split())[:num]\n",
    "\n",
    "print(\"User list: \", word_list)\n",
    "res=find_len_list(word_list)\n",
    "res"
   ]
  },
  {
   "cell_type": "markdown",
   "id": "b33cef49",
   "metadata": {},
   "source": [
    "<h1>2.2 Write a Python function which takes a character (i.e. a string of length 1) and returns True if it is a vowel, False otherwise.</h1>"
   ]
  },
  {
   "cell_type": "code",
   "execution_count": 8,
   "id": "920e52e0",
   "metadata": {},
   "outputs": [
    {
     "name": "stdout",
     "output_type": "stream",
     "text": [
      "Enter a character: u\n"
     ]
    },
    {
     "data": {
      "text/plain": [
       "True"
      ]
     },
     "execution_count": 8,
     "metadata": {},
     "output_type": "execute_result"
    }
   ],
   "source": [
    "def is_vowel(ch):\n",
    "    if(ch == 'a' or ch == 'e' or ch == 'i' or ch == 'o' or ch == 'u' or ch == 'A'\n",
    "       or ch == 'E' or ch == 'I' or ch == 'O' or ch == 'U'):\n",
    "        return True\n",
    "    else:\n",
    "        return False\n",
    "ch = input(\"Enter a character: \")\n",
    "is_vowel(ch)"
   ]
  },
  {
   "cell_type": "code",
   "execution_count": null,
   "id": "cfa5a0b0",
   "metadata": {},
   "outputs": [],
   "source": []
  }
 ],
 "metadata": {
  "kernelspec": {
   "display_name": "Python 3",
   "language": "python",
   "name": "python3"
  },
  "language_info": {
   "codemirror_mode": {
    "name": "ipython",
    "version": 3
   },
   "file_extension": ".py",
   "mimetype": "text/x-python",
   "name": "python",
   "nbconvert_exporter": "python",
   "pygments_lexer": "ipython3",
   "version": "3.8.8"
  }
 },
 "nbformat": 4,
 "nbformat_minor": 5
}
